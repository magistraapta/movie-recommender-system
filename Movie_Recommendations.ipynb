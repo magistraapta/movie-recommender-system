{
  "cells": [
    {
      "cell_type": "code",
      "execution_count": 2,
      "metadata": {
        "id": "8kDTRuayBZ7Q"
      },
      "outputs": [],
      "source": [
        "import numpy as np\n",
        "import pandas as pd\n",
        "import matplotlib.pyplot as plt\n",
        "import seaborn as sns"
      ]
    },
    {
      "cell_type": "markdown",
      "metadata": {},
      "source": [
        "# Data Loading"
      ]
    },
    {
      "cell_type": "code",
      "execution_count": 4,
      "metadata": {
        "colab": {
          "base_uri": "https://localhost:8080/",
          "height": 289
        },
        "id": "wR7jQmpxBn4Y",
        "outputId": "8c7c388b-709f-482d-c8dc-adbcc0cce7b0"
      },
      "outputs": [
        {
          "data": {
            "text/html": [
              "<div>\n",
              "<style scoped>\n",
              "    .dataframe tbody tr th:only-of-type {\n",
              "        vertical-align: middle;\n",
              "    }\n",
              "\n",
              "    .dataframe tbody tr th {\n",
              "        vertical-align: top;\n",
              "    }\n",
              "\n",
              "    .dataframe thead th {\n",
              "        text-align: right;\n",
              "    }\n",
              "</style>\n",
              "<table border=\"1\" class=\"dataframe\">\n",
              "  <thead>\n",
              "    <tr style=\"text-align: right;\">\n",
              "      <th></th>\n",
              "      <th>title</th>\n",
              "      <th>year</th>\n",
              "      <th>certificate</th>\n",
              "      <th>duration</th>\n",
              "      <th>genre</th>\n",
              "      <th>rating</th>\n",
              "      <th>description</th>\n",
              "      <th>stars</th>\n",
              "      <th>votes</th>\n",
              "    </tr>\n",
              "  </thead>\n",
              "  <tbody>\n",
              "    <tr>\n",
              "      <th>0</th>\n",
              "      <td>Cobra Kai</td>\n",
              "      <td>(2018– )</td>\n",
              "      <td>TV-14</td>\n",
              "      <td>30 min</td>\n",
              "      <td>Action, Comedy, Drama</td>\n",
              "      <td>8.5</td>\n",
              "      <td>Decades after their 1984 All Valley Karate Tou...</td>\n",
              "      <td>['Ralph Macchio, ', 'William Zabka, ', 'Courtn...</td>\n",
              "      <td>177,031</td>\n",
              "    </tr>\n",
              "    <tr>\n",
              "      <th>1</th>\n",
              "      <td>The Crown</td>\n",
              "      <td>(2016– )</td>\n",
              "      <td>TV-MA</td>\n",
              "      <td>58 min</td>\n",
              "      <td>Biography, Drama, History</td>\n",
              "      <td>8.7</td>\n",
              "      <td>Follows the political rivalries and romance of...</td>\n",
              "      <td>['Claire Foy, ', 'Olivia Colman, ', 'Imelda St...</td>\n",
              "      <td>199,885</td>\n",
              "    </tr>\n",
              "    <tr>\n",
              "      <th>2</th>\n",
              "      <td>Better Call Saul</td>\n",
              "      <td>(2015–2022)</td>\n",
              "      <td>TV-MA</td>\n",
              "      <td>46 min</td>\n",
              "      <td>Crime, Drama</td>\n",
              "      <td>8.9</td>\n",
              "      <td>The trials and tribulations of criminal lawyer...</td>\n",
              "      <td>['Bob Odenkirk, ', 'Rhea Seehorn, ', 'Jonathan...</td>\n",
              "      <td>501,384</td>\n",
              "    </tr>\n",
              "    <tr>\n",
              "      <th>3</th>\n",
              "      <td>Devil in Ohio</td>\n",
              "      <td>(2022)</td>\n",
              "      <td>TV-MA</td>\n",
              "      <td>356 min</td>\n",
              "      <td>Drama, Horror, Mystery</td>\n",
              "      <td>5.9</td>\n",
              "      <td>When a psychiatrist shelters a mysterious cult...</td>\n",
              "      <td>['Emily Deschanel, ', 'Sam Jaeger, ', 'Gerardo...</td>\n",
              "      <td>9,773</td>\n",
              "    </tr>\n",
              "    <tr>\n",
              "      <th>4</th>\n",
              "      <td>Cyberpunk: Edgerunners</td>\n",
              "      <td>(2022– )</td>\n",
              "      <td>TV-MA</td>\n",
              "      <td>24 min</td>\n",
              "      <td>Animation, Action, Adventure</td>\n",
              "      <td>8.6</td>\n",
              "      <td>A Street Kid trying to survive in a technology...</td>\n",
              "      <td>['Zach Aguilar, ', 'Kenichiro Ohashi, ', 'Emi ...</td>\n",
              "      <td>15,413</td>\n",
              "    </tr>\n",
              "  </tbody>\n",
              "</table>\n",
              "</div>"
            ],
            "text/plain": [
              "                    title         year certificate duration  \\\n",
              "0               Cobra Kai     (2018– )       TV-14   30 min   \n",
              "1               The Crown     (2016– )       TV-MA   58 min   \n",
              "2        Better Call Saul  (2015–2022)       TV-MA   46 min   \n",
              "3           Devil in Ohio       (2022)       TV-MA  356 min   \n",
              "4  Cyberpunk: Edgerunners     (2022– )       TV-MA   24 min   \n",
              "\n",
              "                          genre  rating  \\\n",
              "0         Action, Comedy, Drama     8.5   \n",
              "1     Biography, Drama, History     8.7   \n",
              "2                  Crime, Drama     8.9   \n",
              "3        Drama, Horror, Mystery     5.9   \n",
              "4  Animation, Action, Adventure     8.6   \n",
              "\n",
              "                                         description  \\\n",
              "0  Decades after their 1984 All Valley Karate Tou...   \n",
              "1  Follows the political rivalries and romance of...   \n",
              "2  The trials and tribulations of criminal lawyer...   \n",
              "3  When a psychiatrist shelters a mysterious cult...   \n",
              "4  A Street Kid trying to survive in a technology...   \n",
              "\n",
              "                                               stars    votes  \n",
              "0  ['Ralph Macchio, ', 'William Zabka, ', 'Courtn...  177,031  \n",
              "1  ['Claire Foy, ', 'Olivia Colman, ', 'Imelda St...  199,885  \n",
              "2  ['Bob Odenkirk, ', 'Rhea Seehorn, ', 'Jonathan...  501,384  \n",
              "3  ['Emily Deschanel, ', 'Sam Jaeger, ', 'Gerardo...    9,773  \n",
              "4  ['Zach Aguilar, ', 'Kenichiro Ohashi, ', 'Emi ...   15,413  "
            ]
          },
          "execution_count": 4,
          "metadata": {},
          "output_type": "execute_result"
        }
      ],
      "source": [
        "movies = pd.read_csv('n_movies.csv')\n",
        "movies.head()"
      ]
    },
    {
      "cell_type": "markdown",
      "metadata": {},
      "source": [
        "Menampilkan list genre yang ada pada dataset"
      ]
    },
    {
      "cell_type": "code",
      "execution_count": 5,
      "metadata": {
        "colab": {
          "base_uri": "https://localhost:8080/"
        },
        "id": "04a4gLczf1Cq",
        "outputId": "cf1fc7c1-afca-4f93-b0cb-eb9fcf724114"
      },
      "outputs": [
        {
          "name": "stdout",
          "output_type": "stream",
          "text": [
            "570\n"
          ]
        }
      ],
      "source": [
        "print(len(movies['genre'].unique().tolist()))"
      ]
    },
    {
      "cell_type": "markdown",
      "metadata": {},
      "source": [
        "Menampilkan shape dari dataset. Dataset memiliki 9957 baris dan 9 kolom"
      ]
    },
    {
      "cell_type": "code",
      "execution_count": 6,
      "metadata": {
        "colab": {
          "base_uri": "https://localhost:8080/"
        },
        "id": "tjVhrp42KGyl",
        "outputId": "5d17beb2-9138-440d-b690-073290b39919"
      },
      "outputs": [
        {
          "data": {
            "text/plain": [
              "(9957, 9)"
            ]
          },
          "execution_count": 6,
          "metadata": {},
          "output_type": "execute_result"
        }
      ],
      "source": [
        "movies.shape"
      ]
    },
    {
      "cell_type": "code",
      "execution_count": 56,
      "metadata": {
        "colab": {
          "base_uri": "https://localhost:8080/"
        },
        "id": "PRKEjh-xKMRz",
        "outputId": "62da19ae-4371-40b3-e58a-6c674430c065"
      },
      "outputs": [
        {
          "name": "stdout",
          "output_type": "stream",
          "text": [
            "<class 'pandas.core.frame.DataFrame'>\n",
            "RangeIndex: 9957 entries, 0 to 9956\n",
            "Data columns (total 9 columns):\n",
            " #   Column       Non-Null Count  Dtype  \n",
            "---  ------       --------------  -----  \n",
            " 0   title        9957 non-null   object \n",
            " 1   year         9430 non-null   object \n",
            " 2   certificate  6504 non-null   object \n",
            " 3   duration     7921 non-null   object \n",
            " 4   genre        9884 non-null   object \n",
            " 5   rating       8784 non-null   float64\n",
            " 6   description  9957 non-null   object \n",
            " 7   stars        9957 non-null   object \n",
            " 8   votes        8784 non-null   object \n",
            "dtypes: float64(1), object(8)\n",
            "memory usage: 700.2+ KB\n"
          ]
        }
      ],
      "source": [
        "movies.info()"
      ]
    },
    {
      "cell_type": "markdown",
      "metadata": {},
      "source": [
        "# Data Preperation"
      ]
    },
    {
      "cell_type": "markdown",
      "metadata": {},
      "source": [
        "Mengecek missing value"
      ]
    },
    {
      "cell_type": "code",
      "execution_count": 7,
      "metadata": {
        "colab": {
          "base_uri": "https://localhost:8080/",
          "height": 362
        },
        "id": "CO1b__UHML1j",
        "outputId": "9c9992a2-f1d9-4e22-d777-a6791fc5af6e"
      },
      "outputs": [
        {
          "data": {
            "text/plain": [
              "title             0\n",
              "year            527\n",
              "certificate    3453\n",
              "duration       2036\n",
              "genre            73\n",
              "rating         1173\n",
              "description       0\n",
              "stars             0\n",
              "votes          1173\n",
              "dtype: int64"
            ]
          },
          "execution_count": 7,
          "metadata": {},
          "output_type": "execute_result"
        }
      ],
      "source": [
        "movies.isna().sum()"
      ]
    },
    {
      "cell_type": "code",
      "execution_count": 9,
      "metadata": {},
      "outputs": [
        {
          "data": {
            "text/plain": [
              "title          0\n",
              "year           0\n",
              "certificate    0\n",
              "duration       0\n",
              "genre          0\n",
              "rating         0\n",
              "description    0\n",
              "stars          0\n",
              "votes          0\n",
              "dtype: int64"
            ]
          },
          "execution_count": 9,
          "metadata": {},
          "output_type": "execute_result"
        }
      ],
      "source": [
        "movies.dropna(inplace=True)\n",
        "movies.isna().sum()"
      ]
    },
    {
      "cell_type": "code",
      "execution_count": 10,
      "metadata": {
        "colab": {
          "base_uri": "https://localhost:8080/"
        },
        "id": "aX3zLaW6T81A",
        "outputId": "f3ae910b-bea4-40c5-a7d6-a90c2fa5a4ef"
      },
      "outputs": [
        {
          "data": {
            "text/plain": [
              "(5754, 30)"
            ]
          },
          "execution_count": 10,
          "metadata": {},
          "output_type": "execute_result"
        }
      ],
      "source": [
        "from sklearn.feature_extraction.text import TfidfVectorizer\n",
        "\n",
        "tfidf = TfidfVectorizer(stop_words='english')\n",
        "\n",
        "movies['genre'] = movies['genre'].fillna('')\n",
        "\n",
        "tfidf_matrix = tfidf.fit_transform(movies['genre'])\n",
        "\n",
        "tfidf_matrix.shape"
      ]
    },
    {
      "cell_type": "code",
      "execution_count": 11,
      "metadata": {
        "colab": {
          "base_uri": "https://localhost:8080/"
        },
        "id": "ONIkd0aHYFwB",
        "outputId": "6fc18d72-7e51-4233-b0df-9071d561db97"
      },
      "outputs": [
        {
          "data": {
            "text/plain": [
              "matrix([[0.65584709, 0.        , 0.        , ..., 0.        , 0.        ,\n",
              "         0.        ],\n",
              "        [0.        , 0.        , 0.        , ..., 0.        , 0.        ,\n",
              "         0.        ],\n",
              "        [0.        , 0.        , 0.        , ..., 0.        , 0.        ,\n",
              "         0.        ],\n",
              "        ...,\n",
              "        [0.        , 0.        , 0.        , ..., 0.        , 0.        ,\n",
              "         0.        ],\n",
              "        [0.        , 0.        , 0.        , ..., 0.        , 0.        ,\n",
              "         0.        ],\n",
              "        [0.        , 0.        , 0.        , ..., 0.        , 0.        ,\n",
              "         0.        ]])"
            ]
          },
          "execution_count": 11,
          "metadata": {},
          "output_type": "execute_result"
        }
      ],
      "source": [
        "tfidf_matrix.todense()"
      ]
    },
    {
      "cell_type": "code",
      "execution_count": 12,
      "metadata": {
        "colab": {
          "base_uri": "https://localhost:8080/",
          "height": 677
        },
        "id": "BgIMrgjwYLEk",
        "outputId": "b0e9786a-2e0a-491a-e7fb-03425efd2db1"
      },
      "outputs": [
        {
          "data": {
            "text/html": [
              "<div>\n",
              "<style scoped>\n",
              "    .dataframe tbody tr th:only-of-type {\n",
              "        vertical-align: middle;\n",
              "    }\n",
              "\n",
              "    .dataframe tbody tr th {\n",
              "        vertical-align: top;\n",
              "    }\n",
              "\n",
              "    .dataframe thead th {\n",
              "        text-align: right;\n",
              "    }\n",
              "</style>\n",
              "<table border=\"1\" class=\"dataframe\">\n",
              "  <thead>\n",
              "    <tr style=\"text-align: right;\">\n",
              "      <th></th>\n",
              "      <th>musical</th>\n",
              "      <th>history</th>\n",
              "      <th>mystery</th>\n",
              "      <th>game</th>\n",
              "      <th>biography</th>\n",
              "      <th>romance</th>\n",
              "      <th>talk</th>\n",
              "      <th>thriller</th>\n",
              "      <th>comedy</th>\n",
              "      <th>fantasy</th>\n",
              "      <th>...</th>\n",
              "      <th>news</th>\n",
              "      <th>music</th>\n",
              "      <th>short</th>\n",
              "      <th>sci</th>\n",
              "      <th>western</th>\n",
              "      <th>war</th>\n",
              "      <th>crime</th>\n",
              "      <th>drama</th>\n",
              "      <th>documentary</th>\n",
              "      <th>film</th>\n",
              "    </tr>\n",
              "    <tr>\n",
              "      <th>title</th>\n",
              "      <th></th>\n",
              "      <th></th>\n",
              "      <th></th>\n",
              "      <th></th>\n",
              "      <th></th>\n",
              "      <th></th>\n",
              "      <th></th>\n",
              "      <th></th>\n",
              "      <th></th>\n",
              "      <th></th>\n",
              "      <th></th>\n",
              "      <th></th>\n",
              "      <th></th>\n",
              "      <th></th>\n",
              "      <th></th>\n",
              "      <th></th>\n",
              "      <th></th>\n",
              "      <th></th>\n",
              "      <th></th>\n",
              "      <th></th>\n",
              "      <th></th>\n",
              "    </tr>\n",
              "  </thead>\n",
              "  <tbody>\n",
              "    <tr>\n",
              "      <th>Through My Father's Eyes</th>\n",
              "      <td>0.0</td>\n",
              "      <td>0.0</td>\n",
              "      <td>0.0</td>\n",
              "      <td>0.0</td>\n",
              "      <td>0.573678</td>\n",
              "      <td>0.000000</td>\n",
              "      <td>0.0</td>\n",
              "      <td>0.000000</td>\n",
              "      <td>0.000000</td>\n",
              "      <td>0.000000</td>\n",
              "      <td>...</td>\n",
              "      <td>0.0</td>\n",
              "      <td>0.000000</td>\n",
              "      <td>0.0</td>\n",
              "      <td>0.0</td>\n",
              "      <td>0.0</td>\n",
              "      <td>0.0</td>\n",
              "      <td>0.000000</td>\n",
              "      <td>0.000000</td>\n",
              "      <td>0.431854</td>\n",
              "      <td>0.0</td>\n",
              "    </tr>\n",
              "    <tr>\n",
              "      <th>Parrot Heads</th>\n",
              "      <td>0.0</td>\n",
              "      <td>0.0</td>\n",
              "      <td>0.0</td>\n",
              "      <td>0.0</td>\n",
              "      <td>0.000000</td>\n",
              "      <td>0.000000</td>\n",
              "      <td>0.0</td>\n",
              "      <td>0.000000</td>\n",
              "      <td>0.000000</td>\n",
              "      <td>0.000000</td>\n",
              "      <td>...</td>\n",
              "      <td>0.0</td>\n",
              "      <td>0.836215</td>\n",
              "      <td>0.0</td>\n",
              "      <td>0.0</td>\n",
              "      <td>0.0</td>\n",
              "      <td>0.0</td>\n",
              "      <td>0.000000</td>\n",
              "      <td>0.000000</td>\n",
              "      <td>0.548402</td>\n",
              "      <td>0.0</td>\n",
              "    </tr>\n",
              "    <tr>\n",
              "      <th>Chip and Potato</th>\n",
              "      <td>0.0</td>\n",
              "      <td>0.0</td>\n",
              "      <td>0.0</td>\n",
              "      <td>0.0</td>\n",
              "      <td>0.000000</td>\n",
              "      <td>0.000000</td>\n",
              "      <td>0.0</td>\n",
              "      <td>0.000000</td>\n",
              "      <td>0.493112</td>\n",
              "      <td>0.000000</td>\n",
              "      <td>...</td>\n",
              "      <td>0.0</td>\n",
              "      <td>0.000000</td>\n",
              "      <td>0.0</td>\n",
              "      <td>0.0</td>\n",
              "      <td>0.0</td>\n",
              "      <td>0.0</td>\n",
              "      <td>0.000000</td>\n",
              "      <td>0.000000</td>\n",
              "      <td>0.000000</td>\n",
              "      <td>0.0</td>\n",
              "    </tr>\n",
              "    <tr>\n",
              "      <th>Rick and Morty</th>\n",
              "      <td>0.0</td>\n",
              "      <td>0.0</td>\n",
              "      <td>0.0</td>\n",
              "      <td>0.0</td>\n",
              "      <td>0.000000</td>\n",
              "      <td>0.000000</td>\n",
              "      <td>0.0</td>\n",
              "      <td>0.000000</td>\n",
              "      <td>0.493112</td>\n",
              "      <td>0.000000</td>\n",
              "      <td>...</td>\n",
              "      <td>0.0</td>\n",
              "      <td>0.000000</td>\n",
              "      <td>0.0</td>\n",
              "      <td>0.0</td>\n",
              "      <td>0.0</td>\n",
              "      <td>0.0</td>\n",
              "      <td>0.000000</td>\n",
              "      <td>0.000000</td>\n",
              "      <td>0.000000</td>\n",
              "      <td>0.0</td>\n",
              "    </tr>\n",
              "    <tr>\n",
              "      <th>Lucifer</th>\n",
              "      <td>0.0</td>\n",
              "      <td>0.0</td>\n",
              "      <td>0.0</td>\n",
              "      <td>0.0</td>\n",
              "      <td>0.000000</td>\n",
              "      <td>0.000000</td>\n",
              "      <td>0.0</td>\n",
              "      <td>0.000000</td>\n",
              "      <td>0.000000</td>\n",
              "      <td>0.763973</td>\n",
              "      <td>...</td>\n",
              "      <td>0.0</td>\n",
              "      <td>0.000000</td>\n",
              "      <td>0.0</td>\n",
              "      <td>0.0</td>\n",
              "      <td>0.0</td>\n",
              "      <td>0.0</td>\n",
              "      <td>0.539018</td>\n",
              "      <td>0.354689</td>\n",
              "      <td>0.000000</td>\n",
              "      <td>0.0</td>\n",
              "    </tr>\n",
              "    <tr>\n",
              "      <th>Money Heist</th>\n",
              "      <td>0.0</td>\n",
              "      <td>0.0</td>\n",
              "      <td>0.0</td>\n",
              "      <td>0.0</td>\n",
              "      <td>0.000000</td>\n",
              "      <td>0.000000</td>\n",
              "      <td>0.0</td>\n",
              "      <td>0.000000</td>\n",
              "      <td>0.000000</td>\n",
              "      <td>0.000000</td>\n",
              "      <td>...</td>\n",
              "      <td>0.0</td>\n",
              "      <td>0.000000</td>\n",
              "      <td>0.0</td>\n",
              "      <td>0.0</td>\n",
              "      <td>0.0</td>\n",
              "      <td>0.0</td>\n",
              "      <td>0.668852</td>\n",
              "      <td>0.440123</td>\n",
              "      <td>0.000000</td>\n",
              "      <td>0.0</td>\n",
              "    </tr>\n",
              "    <tr>\n",
              "      <th>The Hater</th>\n",
              "      <td>0.0</td>\n",
              "      <td>0.0</td>\n",
              "      <td>0.0</td>\n",
              "      <td>0.0</td>\n",
              "      <td>0.000000</td>\n",
              "      <td>0.000000</td>\n",
              "      <td>0.0</td>\n",
              "      <td>0.880232</td>\n",
              "      <td>0.000000</td>\n",
              "      <td>0.000000</td>\n",
              "      <td>...</td>\n",
              "      <td>0.0</td>\n",
              "      <td>0.000000</td>\n",
              "      <td>0.0</td>\n",
              "      <td>0.0</td>\n",
              "      <td>0.0</td>\n",
              "      <td>0.0</td>\n",
              "      <td>0.000000</td>\n",
              "      <td>0.474544</td>\n",
              "      <td>0.000000</td>\n",
              "      <td>0.0</td>\n",
              "    </tr>\n",
              "    <tr>\n",
              "      <th>Bleach</th>\n",
              "      <td>0.0</td>\n",
              "      <td>0.0</td>\n",
              "      <td>0.0</td>\n",
              "      <td>0.0</td>\n",
              "      <td>0.000000</td>\n",
              "      <td>0.000000</td>\n",
              "      <td>0.0</td>\n",
              "      <td>0.000000</td>\n",
              "      <td>0.000000</td>\n",
              "      <td>0.000000</td>\n",
              "      <td>...</td>\n",
              "      <td>0.0</td>\n",
              "      <td>0.000000</td>\n",
              "      <td>0.0</td>\n",
              "      <td>0.0</td>\n",
              "      <td>0.0</td>\n",
              "      <td>0.0</td>\n",
              "      <td>0.000000</td>\n",
              "      <td>0.000000</td>\n",
              "      <td>0.000000</td>\n",
              "      <td>0.0</td>\n",
              "    </tr>\n",
              "    <tr>\n",
              "      <th>Itaewon Class</th>\n",
              "      <td>0.0</td>\n",
              "      <td>0.0</td>\n",
              "      <td>0.0</td>\n",
              "      <td>0.0</td>\n",
              "      <td>0.000000</td>\n",
              "      <td>0.884319</td>\n",
              "      <td>0.0</td>\n",
              "      <td>0.000000</td>\n",
              "      <td>0.000000</td>\n",
              "      <td>0.000000</td>\n",
              "      <td>...</td>\n",
              "      <td>0.0</td>\n",
              "      <td>0.000000</td>\n",
              "      <td>0.0</td>\n",
              "      <td>0.0</td>\n",
              "      <td>0.0</td>\n",
              "      <td>0.0</td>\n",
              "      <td>0.000000</td>\n",
              "      <td>0.466883</td>\n",
              "      <td>0.000000</td>\n",
              "      <td>0.0</td>\n",
              "    </tr>\n",
              "    <tr>\n",
              "      <th>Cleveland Abduction</th>\n",
              "      <td>0.0</td>\n",
              "      <td>0.0</td>\n",
              "      <td>0.0</td>\n",
              "      <td>0.0</td>\n",
              "      <td>0.788329</td>\n",
              "      <td>0.000000</td>\n",
              "      <td>0.0</td>\n",
              "      <td>0.000000</td>\n",
              "      <td>0.000000</td>\n",
              "      <td>0.000000</td>\n",
              "      <td>...</td>\n",
              "      <td>0.0</td>\n",
              "      <td>0.000000</td>\n",
              "      <td>0.0</td>\n",
              "      <td>0.0</td>\n",
              "      <td>0.0</td>\n",
              "      <td>0.0</td>\n",
              "      <td>0.513963</td>\n",
              "      <td>0.338202</td>\n",
              "      <td>0.000000</td>\n",
              "      <td>0.0</td>\n",
              "    </tr>\n",
              "  </tbody>\n",
              "</table>\n",
              "<p>10 rows × 22 columns</p>\n",
              "</div>"
            ],
            "text/plain": [
              "                          musical  history  mystery  game  biography  \\\n",
              "title                                                                  \n",
              "Through My Father's Eyes      0.0      0.0      0.0   0.0   0.573678   \n",
              "Parrot Heads                  0.0      0.0      0.0   0.0   0.000000   \n",
              "Chip and Potato               0.0      0.0      0.0   0.0   0.000000   \n",
              "Rick and Morty                0.0      0.0      0.0   0.0   0.000000   \n",
              "Lucifer                       0.0      0.0      0.0   0.0   0.000000   \n",
              "Money Heist                   0.0      0.0      0.0   0.0   0.000000   \n",
              "The Hater                     0.0      0.0      0.0   0.0   0.000000   \n",
              "Bleach                        0.0      0.0      0.0   0.0   0.000000   \n",
              "Itaewon Class                 0.0      0.0      0.0   0.0   0.000000   \n",
              "Cleveland Abduction           0.0      0.0      0.0   0.0   0.788329   \n",
              "\n",
              "                           romance  talk  thriller    comedy   fantasy  ...  \\\n",
              "title                                                                   ...   \n",
              "Through My Father's Eyes  0.000000   0.0  0.000000  0.000000  0.000000  ...   \n",
              "Parrot Heads              0.000000   0.0  0.000000  0.000000  0.000000  ...   \n",
              "Chip and Potato           0.000000   0.0  0.000000  0.493112  0.000000  ...   \n",
              "Rick and Morty            0.000000   0.0  0.000000  0.493112  0.000000  ...   \n",
              "Lucifer                   0.000000   0.0  0.000000  0.000000  0.763973  ...   \n",
              "Money Heist               0.000000   0.0  0.000000  0.000000  0.000000  ...   \n",
              "The Hater                 0.000000   0.0  0.880232  0.000000  0.000000  ...   \n",
              "Bleach                    0.000000   0.0  0.000000  0.000000  0.000000  ...   \n",
              "Itaewon Class             0.884319   0.0  0.000000  0.000000  0.000000  ...   \n",
              "Cleveland Abduction       0.000000   0.0  0.000000  0.000000  0.000000  ...   \n",
              "\n",
              "                          news     music  short  sci  western  war     crime  \\\n",
              "title                                                                          \n",
              "Through My Father's Eyes   0.0  0.000000    0.0  0.0      0.0  0.0  0.000000   \n",
              "Parrot Heads               0.0  0.836215    0.0  0.0      0.0  0.0  0.000000   \n",
              "Chip and Potato            0.0  0.000000    0.0  0.0      0.0  0.0  0.000000   \n",
              "Rick and Morty             0.0  0.000000    0.0  0.0      0.0  0.0  0.000000   \n",
              "Lucifer                    0.0  0.000000    0.0  0.0      0.0  0.0  0.539018   \n",
              "Money Heist                0.0  0.000000    0.0  0.0      0.0  0.0  0.668852   \n",
              "The Hater                  0.0  0.000000    0.0  0.0      0.0  0.0  0.000000   \n",
              "Bleach                     0.0  0.000000    0.0  0.0      0.0  0.0  0.000000   \n",
              "Itaewon Class              0.0  0.000000    0.0  0.0      0.0  0.0  0.000000   \n",
              "Cleveland Abduction        0.0  0.000000    0.0  0.0      0.0  0.0  0.513963   \n",
              "\n",
              "                             drama  documentary  film  \n",
              "title                                                  \n",
              "Through My Father's Eyes  0.000000     0.431854   0.0  \n",
              "Parrot Heads              0.000000     0.548402   0.0  \n",
              "Chip and Potato           0.000000     0.000000   0.0  \n",
              "Rick and Morty            0.000000     0.000000   0.0  \n",
              "Lucifer                   0.354689     0.000000   0.0  \n",
              "Money Heist               0.440123     0.000000   0.0  \n",
              "The Hater                 0.474544     0.000000   0.0  \n",
              "Bleach                    0.000000     0.000000   0.0  \n",
              "Itaewon Class             0.466883     0.000000   0.0  \n",
              "Cleveland Abduction       0.338202     0.000000   0.0  \n",
              "\n",
              "[10 rows x 22 columns]"
            ]
          },
          "execution_count": 12,
          "metadata": {},
          "output_type": "execute_result"
        }
      ],
      "source": [
        "pd.DataFrame(\n",
        "    tfidf_matrix.todense(),\n",
        "    columns=tfidf.get_feature_names_out(),\n",
        "    index=movies.title\n",
        ").sample(22, axis=1).sample(10, axis=0)"
      ]
    },
    {
      "cell_type": "markdown",
      "metadata": {},
      "source": [
        "# Modelling"
      ]
    },
    {
      "cell_type": "code",
      "execution_count": 13,
      "metadata": {
        "colab": {
          "base_uri": "https://localhost:8080/"
        },
        "id": "asKXRqh1VSep",
        "outputId": "7eb964a1-2920-4910-d85e-2ed2cde7acbd"
      },
      "outputs": [
        {
          "data": {
            "text/plain": [
              "array([[1.        , 0.13936107, 0.26484661, ..., 0.13936107, 0.15153875,\n",
              "        0.16002668],\n",
              "       [0.13936107, 1.        , 0.15899709, ..., 1.        , 0.09097425,\n",
              "        0.09606986],\n",
              "       [0.26484661, 0.15899709, 1.        , ..., 0.15899709, 0.17289061,\n",
              "        0.18257449],\n",
              "       ...,\n",
              "       [0.13936107, 1.        , 0.15899709, ..., 1.        , 0.09097425,\n",
              "        0.09606986],\n",
              "       [0.15153875, 0.09097425, 0.17289061, ..., 0.09097425, 1.        ,\n",
              "        0.5713586 ],\n",
              "       [0.16002668, 0.09606986, 0.18257449, ..., 0.09606986, 0.5713586 ,\n",
              "        1.        ]])"
            ]
          },
          "execution_count": 13,
          "metadata": {},
          "output_type": "execute_result"
        }
      ],
      "source": [
        "from sklearn.metrics.pairwise import cosine_similarity\n",
        "\n",
        "# Menghitung cosine similarity pada matrix tf-idf\n",
        "cosine_sim = cosine_similarity(tfidf_matrix)\n",
        "cosine_sim"
      ]
    },
    {
      "cell_type": "code",
      "execution_count": 14,
      "metadata": {
        "colab": {
          "base_uri": "https://localhost:8080/",
          "height": 407
        },
        "id": "xzaOYgMEWlzg",
        "outputId": "329f55a0-7493-441f-ba09-dda461d1c3e8"
      },
      "outputs": [
        {
          "name": "stdout",
          "output_type": "stream",
          "text": [
            "Shape: (5754, 5754)\n"
          ]
        },
        {
          "data": {
            "text/html": [
              "<div>\n",
              "<style scoped>\n",
              "    .dataframe tbody tr th:only-of-type {\n",
              "        vertical-align: middle;\n",
              "    }\n",
              "\n",
              "    .dataframe tbody tr th {\n",
              "        vertical-align: top;\n",
              "    }\n",
              "\n",
              "    .dataframe thead th {\n",
              "        text-align: right;\n",
              "    }\n",
              "</style>\n",
              "<table border=\"1\" class=\"dataframe\">\n",
              "  <thead>\n",
              "    <tr style=\"text-align: right;\">\n",
              "      <th>title</th>\n",
              "      <th>The Stranded</th>\n",
              "      <th>A Jazzman's Blues</th>\n",
              "      <th>Tarung Sarung</th>\n",
              "      <th>Unbreakable Kimmy Schmidt</th>\n",
              "      <th>The Short Game</th>\n",
              "    </tr>\n",
              "    <tr>\n",
              "      <th>title</th>\n",
              "      <th></th>\n",
              "      <th></th>\n",
              "      <th></th>\n",
              "      <th></th>\n",
              "      <th></th>\n",
              "    </tr>\n",
              "  </thead>\n",
              "  <tbody>\n",
              "    <tr>\n",
              "      <th>Monty Python Live (Mostly)</th>\n",
              "      <td>0.000000</td>\n",
              "      <td>0.000000</td>\n",
              "      <td>0.000000</td>\n",
              "      <td>0.300391</td>\n",
              "      <td>0.230403</td>\n",
              "    </tr>\n",
              "    <tr>\n",
              "      <th>The Good Place</th>\n",
              "      <td>0.144684</td>\n",
              "      <td>0.375445</td>\n",
              "      <td>0.168054</td>\n",
              "      <td>0.452852</td>\n",
              "      <td>0.000000</td>\n",
              "    </tr>\n",
              "    <tr>\n",
              "      <th>Muqaddar Ka Faisla</th>\n",
              "      <td>0.185673</td>\n",
              "      <td>0.481807</td>\n",
              "      <td>0.615270</td>\n",
              "      <td>0.581142</td>\n",
              "      <td>0.000000</td>\n",
              "    </tr>\n",
              "    <tr>\n",
              "      <th>Jago: A Life Underwater</th>\n",
              "      <td>0.000000</td>\n",
              "      <td>0.000000</td>\n",
              "      <td>0.000000</td>\n",
              "      <td>0.000000</td>\n",
              "      <td>0.527242</td>\n",
              "    </tr>\n",
              "    <tr>\n",
              "      <th>To All the Boys: P.S. I Still Love You</th>\n",
              "      <td>0.156772</td>\n",
              "      <td>0.406812</td>\n",
              "      <td>0.182094</td>\n",
              "      <td>0.490686</td>\n",
              "      <td>0.000000</td>\n",
              "    </tr>\n",
              "    <tr>\n",
              "      <th>Walking on Water</th>\n",
              "      <td>0.385367</td>\n",
              "      <td>1.000000</td>\n",
              "      <td>0.447612</td>\n",
              "      <td>0.000000</td>\n",
              "      <td>0.000000</td>\n",
              "    </tr>\n",
              "    <tr>\n",
              "      <th>Conversations with a Killer: The Ted Bundy Tapes</th>\n",
              "      <td>0.000000</td>\n",
              "      <td>0.000000</td>\n",
              "      <td>0.000000</td>\n",
              "      <td>0.000000</td>\n",
              "      <td>0.281231</td>\n",
              "    </tr>\n",
              "    <tr>\n",
              "      <th>S.W.A.T.: Firefight</th>\n",
              "      <td>0.000000</td>\n",
              "      <td>0.000000</td>\n",
              "      <td>0.300792</td>\n",
              "      <td>0.000000</td>\n",
              "      <td>0.000000</td>\n",
              "    </tr>\n",
              "    <tr>\n",
              "      <th>The Movies That Made Us</th>\n",
              "      <td>0.000000</td>\n",
              "      <td>0.000000</td>\n",
              "      <td>0.000000</td>\n",
              "      <td>0.000000</td>\n",
              "      <td>0.247618</td>\n",
              "    </tr>\n",
              "    <tr>\n",
              "      <th>Thiago Ventura: Pokas</th>\n",
              "      <td>0.000000</td>\n",
              "      <td>0.000000</td>\n",
              "      <td>0.000000</td>\n",
              "      <td>1.000000</td>\n",
              "      <td>0.000000</td>\n",
              "    </tr>\n",
              "  </tbody>\n",
              "</table>\n",
              "</div>"
            ],
            "text/plain": [
              "title                                             The Stranded  \\\n",
              "title                                                            \n",
              "Monty Python Live (Mostly)                            0.000000   \n",
              "The Good Place                                        0.144684   \n",
              "Muqaddar Ka Faisla                                    0.185673   \n",
              "Jago: A Life Underwater                               0.000000   \n",
              "To All the Boys: P.S. I Still Love You                0.156772   \n",
              "Walking on Water                                      0.385367   \n",
              "Conversations with a Killer: The Ted Bundy Tapes      0.000000   \n",
              "S.W.A.T.: Firefight                                   0.000000   \n",
              "The Movies That Made Us                               0.000000   \n",
              "Thiago Ventura: Pokas                                 0.000000   \n",
              "\n",
              "title                                             A Jazzman's Blues  \\\n",
              "title                                                                 \n",
              "Monty Python Live (Mostly)                                 0.000000   \n",
              "The Good Place                                             0.375445   \n",
              "Muqaddar Ka Faisla                                         0.481807   \n",
              "Jago: A Life Underwater                                    0.000000   \n",
              "To All the Boys: P.S. I Still Love You                     0.406812   \n",
              "Walking on Water                                           1.000000   \n",
              "Conversations with a Killer: The Ted Bundy Tapes           0.000000   \n",
              "S.W.A.T.: Firefight                                        0.000000   \n",
              "The Movies That Made Us                                    0.000000   \n",
              "Thiago Ventura: Pokas                                      0.000000   \n",
              "\n",
              "title                                             Tarung Sarung  \\\n",
              "title                                                             \n",
              "Monty Python Live (Mostly)                             0.000000   \n",
              "The Good Place                                         0.168054   \n",
              "Muqaddar Ka Faisla                                     0.615270   \n",
              "Jago: A Life Underwater                                0.000000   \n",
              "To All the Boys: P.S. I Still Love You                 0.182094   \n",
              "Walking on Water                                       0.447612   \n",
              "Conversations with a Killer: The Ted Bundy Tapes       0.000000   \n",
              "S.W.A.T.: Firefight                                    0.300792   \n",
              "The Movies That Made Us                                0.000000   \n",
              "Thiago Ventura: Pokas                                  0.000000   \n",
              "\n",
              "title                                             Unbreakable Kimmy Schmidt  \\\n",
              "title                                                                         \n",
              "Monty Python Live (Mostly)                                         0.300391   \n",
              "The Good Place                                                     0.452852   \n",
              "Muqaddar Ka Faisla                                                 0.581142   \n",
              "Jago: A Life Underwater                                            0.000000   \n",
              "To All the Boys: P.S. I Still Love You                             0.490686   \n",
              "Walking on Water                                                   0.000000   \n",
              "Conversations with a Killer: The Ted Bundy Tapes                   0.000000   \n",
              "S.W.A.T.: Firefight                                                0.000000   \n",
              "The Movies That Made Us                                            0.000000   \n",
              "Thiago Ventura: Pokas                                              1.000000   \n",
              "\n",
              "title                                             The Short Game  \n",
              "title                                                             \n",
              "Monty Python Live (Mostly)                              0.230403  \n",
              "The Good Place                                          0.000000  \n",
              "Muqaddar Ka Faisla                                      0.000000  \n",
              "Jago: A Life Underwater                                 0.527242  \n",
              "To All the Boys: P.S. I Still Love You                  0.000000  \n",
              "Walking on Water                                        0.000000  \n",
              "Conversations with a Killer: The Ted Bundy Tapes        0.281231  \n",
              "S.W.A.T.: Firefight                                     0.000000  \n",
              "The Movies That Made Us                                 0.247618  \n",
              "Thiago Ventura: Pokas                                   0.000000  "
            ]
          },
          "execution_count": 14,
          "metadata": {},
          "output_type": "execute_result"
        }
      ],
      "source": [
        "cosine_sim_df = pd.DataFrame(cosine_sim, index=movies['title'], columns=movies['title'])\n",
        "print('Shape:', cosine_sim_df.shape)\n",
        "\n",
        "cosine_sim_df.sample(5, axis=1).sample(10, axis=0)"
      ]
    },
    {
      "cell_type": "markdown",
      "metadata": {},
      "source": [
        "# Recommendation Result"
      ]
    },
    {
      "cell_type": "code",
      "execution_count": 15,
      "metadata": {
        "id": "dosVwHlUWtSU"
      },
      "outputs": [],
      "source": [
        "def book_recommendation(nama_film, similarity_data=cosine_sim_df, items=movies[['title', 'genre']], k=10):\n",
        "    index = similarity_data.loc[:,nama_film].to_numpy().argpartition(\n",
        "        range(-1, -k, -1))\n",
        "\n",
        "    closest = similarity_data.columns[index[-1:-(k+2):-1]]\n",
        "\n",
        "    closest = closest.drop(nama_film, errors='ignore')\n",
        "    df = pd.DataFrame(closest).merge(items)\n",
        "    df.drop_duplicates(keep='first', subset=\"title\", inplace=True)\n",
        "    return df.head(k)"
      ]
    },
    {
      "cell_type": "code",
      "execution_count": 16,
      "metadata": {
        "colab": {
          "base_uri": "https://localhost:8080/",
          "height": 359
        },
        "id": "qDyzH03pW1x5",
        "outputId": "c61683cb-788d-4309-eac6-39e36c41a39c"
      },
      "outputs": [
        {
          "data": {
            "text/html": [
              "<div>\n",
              "<style scoped>\n",
              "    .dataframe tbody tr th:only-of-type {\n",
              "        vertical-align: middle;\n",
              "    }\n",
              "\n",
              "    .dataframe tbody tr th {\n",
              "        vertical-align: top;\n",
              "    }\n",
              "\n",
              "    .dataframe thead th {\n",
              "        text-align: right;\n",
              "    }\n",
              "</style>\n",
              "<table border=\"1\" class=\"dataframe\">\n",
              "  <thead>\n",
              "    <tr style=\"text-align: right;\">\n",
              "      <th></th>\n",
              "      <th>title</th>\n",
              "      <th>genre</th>\n",
              "    </tr>\n",
              "  </thead>\n",
              "  <tbody>\n",
              "    <tr>\n",
              "      <th>0</th>\n",
              "      <td>The Revenge of Robert the Doll</td>\n",
              "      <td>Horror</td>\n",
              "    </tr>\n",
              "    <tr>\n",
              "      <th>1</th>\n",
              "      <td>The Human Centipede 2 (Full Sequence)</td>\n",
              "      <td>Horror</td>\n",
              "    </tr>\n",
              "    <tr>\n",
              "      <th>2</th>\n",
              "      <td>Robert Reborn</td>\n",
              "      <td>Horror</td>\n",
              "    </tr>\n",
              "    <tr>\n",
              "      <th>3</th>\n",
              "      <td>The Exorcism of Anna Ecklund</td>\n",
              "      <td>Horror</td>\n",
              "    </tr>\n",
              "    <tr>\n",
              "      <th>4</th>\n",
              "      <td>Rape Zombie: Lust of the Dead</td>\n",
              "      <td>Horror</td>\n",
              "    </tr>\n",
              "    <tr>\n",
              "      <th>5</th>\n",
              "      <td>Verónica</td>\n",
              "      <td>Horror</td>\n",
              "    </tr>\n",
              "    <tr>\n",
              "      <th>6</th>\n",
              "      <td>FirstBorn</td>\n",
              "      <td>Horror</td>\n",
              "    </tr>\n",
              "    <tr>\n",
              "      <th>7</th>\n",
              "      <td>23:59</td>\n",
              "      <td>Horror</td>\n",
              "    </tr>\n",
              "    <tr>\n",
              "      <th>8</th>\n",
              "      <td>Beast of Morocco</td>\n",
              "      <td>Horror</td>\n",
              "    </tr>\n",
              "    <tr>\n",
              "      <th>9</th>\n",
              "      <td>Pentagram</td>\n",
              "      <td>Horror</td>\n",
              "    </tr>\n",
              "  </tbody>\n",
              "</table>\n",
              "</div>"
            ],
            "text/plain": [
              "                                   title   genre\n",
              "0         The Revenge of Robert the Doll  Horror\n",
              "1  The Human Centipede 2 (Full Sequence)  Horror\n",
              "2                          Robert Reborn  Horror\n",
              "3           The Exorcism of Anna Ecklund  Horror\n",
              "4          Rape Zombie: Lust of the Dead  Horror\n",
              "5                               Verónica  Horror\n",
              "6                              FirstBorn  Horror\n",
              "7                                  23:59  Horror\n",
              "8                       Beast of Morocco  Horror\n",
              "9                              Pentagram  Horror"
            ]
          },
          "execution_count": 16,
          "metadata": {},
          "output_type": "execute_result"
        }
      ],
      "source": [
        "book_recommendation('Danur')"
      ]
    }
  ],
  "metadata": {
    "colab": {
      "provenance": []
    },
    "kernelspec": {
      "display_name": "Python 3",
      "name": "python3"
    },
    "language_info": {
      "codemirror_mode": {
        "name": "ipython",
        "version": 3
      },
      "file_extension": ".py",
      "mimetype": "text/x-python",
      "name": "python",
      "nbconvert_exporter": "python",
      "pygments_lexer": "ipython3",
      "version": "3.12.0"
    }
  },
  "nbformat": 4,
  "nbformat_minor": 0
}
